{
 "cells": [
  {
   "cell_type": "code",
   "execution_count": 1,
   "metadata": {},
   "outputs": [],
   "source": [
    "import os\n",
    "import math\n",
    "import time\n",
    "import numpy as np\n",
    "import matplotlib.pyplot as plt\n",
    "import matplotlib.colors as colors\n",
    "import itertools as it\n",
    "from scipy.ndimage import correlate, gaussian_filter\n",
    "import pydicom as pd\n",
    "from ipywidgets import interact, interactive, fixed, interact_manual\n",
    "import ipywidgets as widgets"
   ]
  },
  {
   "cell_type": "code",
   "execution_count": 2,
   "metadata": {},
   "outputs": [],
   "source": [
    "def imgtrim(img, c):\n",
    "    img[img < -c] = -c\n",
    "    img[img > c] = c\n",
    "    return img\n",
    "\n",
    "def imgpow(img, a, b, c, vmax = 0):\n",
    "    img[img < a] = a\n",
    "    img[img > b] = b\n",
    "    img -= np.min(img)\n",
    "    if vmax == 0:\n",
    "        img = img / (b-a)\n",
    "    else:\n",
    "        img = img / np.max([b-a, vmax])\n",
    "    img = np.power(img, c)\n",
    "    return img"
   ]
  },
  {
   "cell_type": "code",
   "execution_count": 3,
   "metadata": {},
   "outputs": [],
   "source": [
    "class DICOM:\n",
    "    \"\"\"Esta classe é usada para armazenar a imagem importada usando a biblioteca Pydicom.\n",
    "    Tanto uma única imagem Dicom como uma pasta correspondente a uma imagem tridimensional podem ser carregados.\n",
    "    No caso tridimensional, as fatias são ordenadas e disponibilizadas como um tensor de ordem 3 em self.pixel_array\"\"\"\n",
    "    # Os códigos de tag abaixo são definidos pelo padrão DICOM\n",
    "    _img_pos = pd.tag.Tag(0x00200032)\n",
    "    _img_ori = pd.tag.Tag(0x00200037)\n",
    "    _pct_pos = pd.tag.Tag(0x00185100)\n",
    "    _slice_thickness = pd.tag.Tag(0x00180050)\n",
    "    _pixel_spacing = pd.tag.Tag(0x00280030)\n",
    "    \n",
    "    def __init__(self, path, d3 = False, file_ext = \".dcm\"):\n",
    "        self.d3 = d3\n",
    "        self.file_ext = file_ext\n",
    "        self.path = path\n",
    "        \n",
    "        if not d3:\n",
    "            self.dcm_array = [pd.dcmread(path)]\n",
    "            self.pixel_array = np.array([self.dcm_array[0].pixel_array])\n",
    "        else:\n",
    "            dcm_array = []\n",
    "            for filename in os.listdir(path):\n",
    "                if filename.endswith(file_ext):\n",
    "                    dcm_array.append(pd.dcmread((os.path.join(path, filename))))\n",
    "            dcm_array.sort(key = lambda x: x[DICOM._img_pos].value[2])\n",
    "            self.dcm_array = dcm_array\n",
    "            \n",
    "            pixel_array = []\n",
    "            for dcm in dcm_array:\n",
    "                pixel_array.append(dcm.pixel_array)\n",
    "            self.pixel_array = np.array(pixel_array)\n",
    "            #self.padded_array = np.pad(pixel_array, ((0,2),(0,0),(0,0)), 'constant', constant_values = np.min(pixel_array))\n",
    "            #self.pixel_array = self.padded_array[1:-1,:,:]\n",
    "        self.res = np.array(list(self.dcm_array[0][DICOM._pixel_spacing].value)\n",
    "                            + [self.dcm_array[0][DICOM._slice_thickness].value], dtype='float')\n",
    "        self.shape = self.pixel_array.shape\n",
    "        self.trim()\n",
    "    \n",
    "    def trim(self, plt_lower = -256, plt_upper = 256, plt_pow = 1):\n",
    "        self.plt_lower, self.plt_upper, self.plt_pow = plt_lower, plt_upper, plt_pow\n",
    "        self.trimmed_array = imgpow(np.array(self.pixel_array), plt_lower, plt_upper, plt_pow, 0)\n",
    "    \"\"\"\n",
    "    def calcslice(self, b = 0, ax = 0, ay = 0):\n",
    "        nz, nx, ny = self.shape\n",
    "        resx, resy, resz = self.res\n",
    "        ax = resx/resz * ax\n",
    "        ay = resy/resz * ay\n",
    "        b = b/resz\n",
    "        minx = math.ceil((-b/ax)*(1 + ax ** 2) ** .5) if ax != 0 else 0\n",
    "        miny = math.ceil((-b/ay)*(1 + ay ** 2) ** .5) if ay != 0 else 0 \n",
    "        maxx = -1 + math.ceil(-b + nx * (1 + ax ** 2) ** .5) if ax < nz/nx else -1 + math.ceil(nz * (1 + ax ** -2) ** .5)\n",
    "        maxy = -1 + math.ceil(-b + ny * (1 + ay ** 2) ** .5) if ay < nz/ny else -1 + math.ceil(nz * (1 + ay ** -2) ** .5)\n",
    "        print(minx, maxx, miny, maxy)\n",
    "        x = np.repeat(range(2*minx, 2*maxx), 2*(maxy-miny)).reshape(2*(maxx-minx), 2*(maxy-miny))\n",
    "        y = np.transpose(np.repeat(range(2*miny, 2*maxy), 2*(maxx-minx)).reshape(2*(maxy-miny), 2*(maxx-minx)))\n",
    "        x = (x / (1 + ax ** 2) ** .5)/2\n",
    "        y = (y / (1 + ay ** 2) ** .5)/2\n",
    "        z = b + ax*x + ay*y\n",
    "        z[z > nz-1] = nz\n",
    "        z[z < 0] = nz\n",
    "        \n",
    "        result = np.zeros(x.shape)\n",
    "        x0, y0, z0 = np.floor([x, y, z]).astype('int64')\n",
    "        x1, y1, z1 = [x0+1, y0+1, z0+1]\n",
    "        dsum = np.zeros(x.shape)\n",
    "        for r in it.product([0,1],[0,1],[0,1]):\n",
    "            d = ((resx*(r[0] + x0 - x))**2 + (resy*(r[1] + y0 - y))**2 + (resz*(r[2] + z0 - z))**2) ** .5 + 0.0001\n",
    "            result += self.padded_array[r[2] + z0, r[0] + x0, r[1] + y0] / d\n",
    "            dsum += 1 / d\n",
    "        result = result / dsum\n",
    "        \n",
    "        nresx = resx*(1 + ax**2)**.5 if ax <= resz/resx else resz*(1 + ax**-2)**.5\n",
    "        nresy = resy*(1 + ay**2)**.5 if ay <= resz/resy else resz*(1 + ay**-2)**.5\n",
    "        print(result.shape)\n",
    "        print(z)\n",
    "        plt.figure(num=None, figsize=(8, 8), dpi=80, facecolor='w', edgecolor='k')\n",
    "        plt.set_cmap('Greys_r')\n",
    "        plt.imshow(result, aspect = nresx/nresy)\n",
    "        plt.plot()\n",
    "        \n",
    "        return result\n",
    "    \"\"\"\n",
    "    def plot(self, img):\n",
    "        plt.figure(num=None, figsize=(8, 8), dpi=80, facecolor='w', edgecolor='k')\n",
    "        plt.set_cmap('Greys_r')\n",
    "        plt.imshow(img)\n",
    "        plt.plot();\n",
    "    \n",
    "    def plotslice(self, z = 0, setparams = False, a = -256, b = 256, c = 1):\n",
    "        imgO = np.array(self.pixel_array[z])\n",
    "        if not setparams:\n",
    "            imgO = imgpow(imgO, self.plt_lower, self.plt_upper, self.plt_pow, np.max(self.pixel_array))\n",
    "        else:\n",
    "            imgO = imgpow(imgO, a, b, c, np.max(self.pixel_array))\n",
    "        self.plot(imgO)\n",
    "    \n",
    "    def startinteractiveplot(self, tensor = None, trimmed = True):\n",
    "        if tensor is None:\n",
    "            if trimmed:\n",
    "                self.plt_array = imgpow(np.array(self.pixel_array),\n",
    "                                        self.plt_lower, self.plt_upper, self.plt_pow, 0)\n",
    "            else: \n",
    "                self.plt_array = np.array(self.pixel_array)\n",
    "                self.plt_array -= np.min(self.plt_array)\n",
    "                self.plt_array = self.plt_array/np.max(self.plt_array)\n",
    "        else:\n",
    "            self.plt_array = np.array(tensor)\n",
    "            self.plt_array -= np.min(self.plt_array)\n",
    "            self.plt_array = self.plt_array/np.max(self.plt_array)\n",
    "            \n",
    "        self.fig = plt.figure(facecolor='w', edgecolor='k')\n",
    "        plt.set_cmap('Greys_r')\n",
    "        self.ax = self.fig.add_subplot(1,1,1)\n",
    "        if self.plt_array.ndim == 3:\n",
    "            self.im = self.ax.imshow(self.plt_array[0], vmin=0.0, vmax=1.0)\n",
    "        elif self.plt_array.ndim == 4:\n",
    "            self.im = self.ax.imshow(self.plt_array[(0,0)], vmin=0.0, vmax=1.0)\n",
    "    \n",
    "    def interactiveplot(self, z = 0, pixel_data = None):\n",
    "        if pixel_data is None:\n",
    "            self.im.set_data(self.plt_array[z])\n",
    "        else:\n",
    "            self.im.set_data(pixel_data)\n",
    "        self.im.axes.figure.canvas.draw()\n",
    "    \n",
    "    def interact(self, tensor = None, dynamic_gamma = False, trimmed = True):\n",
    "        if not dynamic_gamma:\n",
    "            self.startinteractiveplot(tensor, trimmed = trimmed)\n",
    "            if (self.plt_array.ndim == 3):\n",
    "                interact(lambda z: self.interactiveplot(z),\n",
    "                         z = widgets.IntSlider(min=0,max=-1+self.plt_array.shape[0],step=1,value=0))\n",
    "            elif (self.plt_array.ndim == 4):\n",
    "                interact(lambda t,z: self.interactiveplot((t,z)),\n",
    "                         t = widgets.IntSlider(min=0,max=-1+self.plt_array.shape[0],step=1,value=0),\n",
    "                         z = widgets.IntSlider(min=0,max=-1+self.plt_array.shape[1],step=1,value=0))\n",
    "        else:\n",
    "            self.startinteractiveplot()\n",
    "            interact(lambda z, a, b, c: self.interactiveplot(pixel_data = imgpow(np.array(self.pixel_array[z]), a, b, c, 0)),\n",
    "                     z=widgets.IntSlider(min=0,max=len(self.dcm_array)-1,step=1,value=0),\n",
    "                     a=widgets.IntSlider(min=-2048,max=8192,step=1,value=-256),\n",
    "                     b=widgets.IntSlider(min=-2048,max=8192,step=1,value=256),\n",
    "                     c=widgets.FloatSlider(min=0.1,max=2,step=0.1,value=1)\n",
    "                    );"
   ]
  },
  {
   "cell_type": "code",
   "execution_count": 4,
   "metadata": {},
   "outputs": [],
   "source": [
    "path = \"C:/Users/Demetrius/Desktop/APOLLO/AP-6H6G/09-09-2015-CT THORAX WCONT-94638/3-Body 2.0 WITH CONT CE-62197\"\n",
    "dicom = DICOM(path, d3 = True)\n",
    "\n",
    "#list(dcm_array[0][DICOM._pixel_spacing].value) + [dcm_array[0][DICOM._slice_thickness].value]"
   ]
  },
  {
   "cell_type": "code",
   "execution_count": null,
   "metadata": {},
   "outputs": [],
   "source": []
  },
  {
   "cell_type": "code",
   "execution_count": 14,
   "metadata": {},
   "outputs": [
    {
     "name": "stdout",
     "output_type": "stream",
     "text": [
      "Using matplotlib backend: Qt5Agg\n"
     ]
    },
    {
     "data": {
      "application/vnd.jupyter.widget-view+json": {
       "model_id": "4280957c3f7849e698b6cab2781e2470",
       "version_major": 2,
       "version_minor": 0
      },
      "text/html": [
       "<p>Failed to display Jupyter Widget of type <code>interactive</code>.</p>\n",
       "<p>\n",
       "  If you're reading this message in the Jupyter Notebook or JupyterLab Notebook, it may mean\n",
       "  that the widgets JavaScript is still loading. If this message persists, it\n",
       "  likely means that the widgets JavaScript library is either not installed or\n",
       "  not enabled. See the <a href=\"https://ipywidgets.readthedocs.io/en/stable/user_install.html\">Jupyter\n",
       "  Widgets Documentation</a> for setup instructions.\n",
       "</p>\n",
       "<p>\n",
       "  If you're reading this message in another frontend (for example, a static\n",
       "  rendering on GitHub or <a href=\"https://nbviewer.jupyter.org/\">NBViewer</a>),\n",
       "  it may mean that your frontend doesn't currently support widgets.\n",
       "</p>\n"
      ],
      "text/plain": [
       "interactive(children=(IntSlider(value=0, description='z', max=157), IntSlider(value=-256, description='a', max=8192, min=-2048), IntSlider(value=256, description='b', max=8192, min=-2048), FloatSlider(value=1.0, description='c', max=2.0, min=0.1), Output()), _dom_classes=('widget-interact',))"
      ]
     },
     "metadata": {},
     "output_type": "display_data"
    }
   ],
   "source": [
    "%matplotlib\n",
    "dicom.interact(dynamic_gamma = True)\n",
    "#dicom.plotslice()"
   ]
  },
  {
   "cell_type": "code",
   "execution_count": 5,
   "metadata": {},
   "outputs": [],
   "source": [
    "class Dirac:\n",
    "    def __init__(self, epsilon):\n",
    "        self.epsilon = epsilon\n",
    "    \n",
    "    def __call__(self, M):\n",
    "        pass\n",
    "\n",
    "class Heaviside:\n",
    "    def __init__(self, epsilon):\n",
    "        self.epsilon = epsilon\n",
    "    \n",
    "    def __call__(self, M):\n",
    "        pass    \n",
    "    \n",
    "class D_atan(Dirac):\n",
    "    def __init__(self, epsilon):\n",
    "        super().__init__(epsilon)\n",
    "\n",
    "    def __call__(self, M):\n",
    "        M = np.array(M)\n",
    "        return self.epsilon * ((self.epsilon**2 + M**2) ** -1)\n",
    "\n",
    "class H_atan(Heaviside):\n",
    "    def __init__(self, epsilon):\n",
    "        super().__init__(epsilon)\n",
    "        \n",
    "    def __call__(self, M):\n",
    "        M = np.array(M)\n",
    "        return .5 + np.arctan(M/self.epsilon) / np.pi\n",
    "    \n",
    "class H_0(Heaviside):\n",
    "    def __init__(self, epsilon):\n",
    "        super().__init__(epsilon)\n",
    "        \n",
    "    def __call__(self, M):\n",
    "        R = np.zeros(M.shape)\n",
    "        R[M > 0] = 1\n",
    "        return R"
   ]
  },
  {
   "cell_type": "code",
   "execution_count": 6,
   "metadata": {},
   "outputs": [],
   "source": [
    "dirac = D_atan(.5)\n",
    "heaviside = H_atan(.5)\n",
    "h0 = H_0(0)"
   ]
  },
  {
   "cell_type": "code",
   "execution_count": 7,
   "metadata": {},
   "outputs": [],
   "source": [
    "class Segmentation:\n",
    "    def __init__(self, dt, dirac, heaviside, dicom, \n",
    "                 z = -1, k=[1, .1, 1, 1], pregaussian = 0, \n",
    "                 lowmem = False, phi0 = 'sine'):\n",
    "        self.dt = dt\n",
    "        self.dirac = dirac\n",
    "        self.heaviside = heaviside\n",
    "        self.dicom = dicom\n",
    "        self.lowmem = lowmem\n",
    "        if z == -1:\n",
    "            image = np.array(self.dicom.trimmed_array)\n",
    "            image = image.astype('float64', casting='safe', copy = True)\n",
    "        else:\n",
    "            image = np.array(self.dicom.trimmed_array[z])\n",
    "            image = image.astype('float64', casting='safe', copy = True)\n",
    "        image = gaussian_filter(image, pregaussian)\n",
    "        self.image = image\n",
    "        self.phi0(t = phi0)\n",
    "        self.k = k\n",
    "        self.nstep = 0\n",
    "    \n",
    "    def phi0(self, t = 'median'):\n",
    "        self.phi = -1*np.ones(self.image.shape)\n",
    "        self.ndim = self.image.ndim\n",
    "        if t == 'median':\n",
    "            self.phi[self.image > np.median(self.image)] = 1\n",
    "            self.phi = gaussian_filter(self.phi, 1)\n",
    "        elif t == 'checkers':\n",
    "            if self.ndim == 3:\n",
    "                self.phi[1::2, ::2, ::2] = 1\n",
    "                self.phi[::2, 1::2, ::2] = 1\n",
    "                self.phi[::2, ::2, 1::2] = 1\n",
    "                self.phi[1::2, 1::2, 1::2] = 1\n",
    "            else:\n",
    "                self.phi[1::2, ::2] = 1\n",
    "                self.phi[::2, 1::2] = 1\n",
    "        elif t == 'sine':\n",
    "            r = 200\n",
    "            if self.ndim == 3:\n",
    "                z, x, y = self.phi.shape\n",
    "                zp, xp, yp = np.array(self.phi.shape)/r\n",
    "                for i in range(z):\n",
    "                    for j in range(x):\n",
    "                        for k in range(y):\n",
    "                            self.phi[i, j, k] = math.sin(i/zp) + math.sin(j/xp) + math.sin(k/yp)\n",
    "            elif self.ndim == 2:\n",
    "                x, y = self.phi.shape\n",
    "                xp, yp = np.array(self.phi.shape)/r\n",
    "                for i in range(x):\n",
    "                    for j in range(y):\n",
    "                            self.phi[i, j] = math.sin(i/xp) + math.sin(j/yp)\n",
    "        self.phi = [self.phi]\n",
    "    \n",
    "    \"\"\"Derivada direcional do tensor.\n",
    "    Parâmetro d determina direção (x,y,z...) = (0,1,2,...).\n",
    "    Parâmetro w determina tipo de estimativa (esquerda, centro, direita) = (-1,0,1).\"\"\"\n",
    "    def D(self, d, w, tensor):\n",
    "        kernel = np.array([0]*(w == 1) + [-1] + [0]*(w==0) + [1] + [0]*(w==-1))\n",
    "        kernel = np.reshape(kernel, [1]*(self.ndim-d-1) + [3] + [1]*d)\n",
    "        kernel = kernel / self.dicom.res[d]\n",
    "        if w == 0:\n",
    "            kernel = kernel * .5\n",
    "        return correlate(tensor, kernel, mode='nearest')\n",
    "    \n",
    "    def innersum(self):\n",
    "        return 1.0 * np.sum(self.image * self.heaviside(self.phi[-1]))\n",
    "    \n",
    "    def innerarea(self):\n",
    "        return 1.0 * np.sum(self.heaviside(self.phi[-1]))\n",
    "    \n",
    "    def outersum(self):\n",
    "        return 1.0 * np.sum(self.image * (-1*self.heaviside(self.phi[-1]) + 1))\n",
    "    \n",
    "    def outerarea(self):\n",
    "        return 1.0 * np.sum(-1*self.heaviside(self.phi[-1]) + 1)\n",
    "    \n",
    "    def innermean(self):\n",
    "        return self.innersum()/self.innerarea()\n",
    "\n",
    "    def outermean(self):\n",
    "        return self.outersum()/self.outerarea()\n",
    "    \n",
    "    def I(self):\n",
    "        return (self.image - self.innermean())**2\n",
    "    \n",
    "    def O(self):\n",
    "        return (self.image - self.outermean())**2\n",
    "    \n",
    "    def divunitgrad(self, tau = .000001):\n",
    "        Dxic = []\n",
    "        Dxid = []\n",
    "        for i in range(self.ndim):\n",
    "            Dxic.append(self.D(i,0,self.phi[-1]))\n",
    "            Dxid.append(self.D(i,1,self.phi[-1]))\n",
    "        r = np.zeros(self.image.shape)\n",
    "        for i in range(self.ndim):\n",
    "            gradnorm = tau\n",
    "            for j in range(self.ndim):\n",
    "                if i == j:\n",
    "                    gradnorm += Dxid[j]**2\n",
    "                else:\n",
    "                    gradnorm += Dxic[j]**2\n",
    "            gradnorm = gradnorm ** .5\n",
    "            r += self.D(i, -1, Dxid[i]/gradnorm)\n",
    "        return r\n",
    "    \n",
    "    def step(self):\n",
    "        self.nstep += 1\n",
    "        newphi = self.phi[-1] + self.dt * self.dirac(self.phi[-1]) * (\n",
    "                    - self.k[1] \n",
    "                    - self.k[2] * self.I() \n",
    "                    + self.k[3] * self.O()\n",
    "                    + self.k[0] * self.divunitgrad()\n",
    "                )\n",
    "        if (self.lowmem) & (len(self.phi) > 1):\n",
    "            del self.phi[-1]\n",
    "        self.phi.append(newphi)\n",
    "    \n",
    "    def steps(self, n = 1, timelimit = 0):\n",
    "        i = 0\n",
    "        t0 = time.time()\n",
    "        while (i < n) & ((timelimit == 0) | (time.time() - t0 < timelimit)):\n",
    "            self.step()\n",
    "            i += 1\n",
    "        print(\"Total iterations done: {}\".format(i))\n",
    "        print(\"Current iteration: {}\".format(self.nstep))\n",
    "        print(\"Total time: {:2.2}\".format(time.time() - t0))"
   ]
  },
  {
   "cell_type": "code",
   "execution_count": 8,
   "metadata": {},
   "outputs": [
    {
     "name": "stdout",
     "output_type": "stream",
     "text": [
      "Using matplotlib backend: Qt5Agg\n"
     ]
    }
   ],
   "source": [
    "%matplotlib\n",
    "#dicom.trim(np.min(dicom.pixel_array), np.max(dicom.pixel_array[98]), 1)\n",
    "dicom.trim(-256, 256, 1)\n",
    "#dicom.interact(dicom.trimmed_array)"
   ]
  },
  {
   "cell_type": "code",
   "execution_count": 22,
   "metadata": {},
   "outputs": [],
   "source": [
    "seg = Segmentation(.1, dirac, heaviside, dicom, z=98, k=[.01, 0, 10, 10],\n",
    "                  pregaussian = 0, lowmem = False, phi0='sine')"
   ]
  },
  {
   "cell_type": "code",
   "execution_count": 23,
   "metadata": {},
   "outputs": [
    {
     "name": "stdout",
     "output_type": "stream",
     "text": [
      "Total iterations done: 50\n",
      "Current iteration: 50\n",
      "Total time: 8.2\n"
     ]
    }
   ],
   "source": [
    "seg.steps(50)"
   ]
  },
  {
   "cell_type": "code",
   "execution_count": 24,
   "metadata": {},
   "outputs": [
    {
     "name": "stdout",
     "output_type": "stream",
     "text": [
      "Using matplotlib backend: Qt5Agg\n"
     ]
    },
    {
     "data": {
      "application/vnd.jupyter.widget-view+json": {
       "model_id": "b4ab8b92511e4a3081a8760adde763c0",
       "version_major": 2,
       "version_minor": 0
      },
      "text/html": [
       "<p>Failed to display Jupyter Widget of type <code>interactive</code>.</p>\n",
       "<p>\n",
       "  If you're reading this message in the Jupyter Notebook or JupyterLab Notebook, it may mean\n",
       "  that the widgets JavaScript is still loading. If this message persists, it\n",
       "  likely means that the widgets JavaScript library is either not installed or\n",
       "  not enabled. See the <a href=\"https://ipywidgets.readthedocs.io/en/stable/user_install.html\">Jupyter\n",
       "  Widgets Documentation</a> for setup instructions.\n",
       "</p>\n",
       "<p>\n",
       "  If you're reading this message in another frontend (for example, a static\n",
       "  rendering on GitHub or <a href=\"https://nbviewer.jupyter.org/\">NBViewer</a>),\n",
       "  it may mean that your frontend doesn't currently support widgets.\n",
       "</p>\n"
      ],
      "text/plain": [
       "interactive(children=(IntSlider(value=0, description='z', max=50), Output()), _dom_classes=('widget-interact',))"
      ]
     },
     "metadata": {},
     "output_type": "display_data"
    }
   ],
   "source": [
    "%matplotlib\n",
    "plt_arr = h0(np.array(seg.phi))\n",
    "dicom.interact(plt_arr)\n",
    "#dicom.interact(seg.image)"
   ]
  },
  {
   "cell_type": "code",
   "execution_count": 187,
   "metadata": {},
   "outputs": [
    {
     "name": "stdout",
     "output_type": "stream",
     "text": [
      "Using matplotlib backend: Qt5Agg\n"
     ]
    },
    {
     "data": {
      "application/vnd.jupyter.widget-view+json": {
       "model_id": "5ba2d06b7bab409f8db2dc14cb080c6a",
       "version_major": 2,
       "version_minor": 0
      },
      "text/plain": [
       "interactive(children=(IntSlider(value=0, description='z', max=157), Output()), _dom_classes=('widget-interact'…"
      ]
     },
     "metadata": {},
     "output_type": "display_data"
    }
   ],
   "source": [
    "%matplotlib\n",
    "dicom.interact(dicom.trimmed_array)"
   ]
  },
  {
   "cell_type": "code",
   "execution_count": null,
   "metadata": {},
   "outputs": [],
   "source": []
  }
 ],
 "metadata": {
  "kernelspec": {
   "display_name": "Python 3",
   "language": "python",
   "name": "python3"
  },
  "language_info": {
   "codemirror_mode": {
    "name": "ipython",
    "version": 3
   },
   "file_extension": ".py",
   "mimetype": "text/x-python",
   "name": "python",
   "nbconvert_exporter": "python",
   "pygments_lexer": "ipython3",
   "version": "3.6.6"
  }
 },
 "nbformat": 4,
 "nbformat_minor": 2
}
